{
 "cells": [
  {
   "cell_type": "markdown",
   "id": "c4baab3c-48a2-4177-b2de-503ff3f8edb2",
   "metadata": {},
   "source": [
    "### Visualization of the electrode coverage using MNE tools"
   ]
  },
  {
   "cell_type": "code",
   "execution_count": 1,
   "id": "a61d086e-2ecb-4f11-b1bd-49069f1059d4",
   "metadata": {},
   "outputs": [
    {
     "name": "stdout",
     "output_type": "stream",
     "text": [
      "Using notebook 3d backend.\n",
      "\n"
     ]
    }
   ],
   "source": [
    "import numpy as np\n",
    "import mne\n",
    "import pandas as pd\n",
    "import os\n",
    "import mne_bids\n",
    "import nibabel\n",
    "\n",
    "\n",
    "mne.viz.set_3d_backend('notebook')\n"
   ]
  },
  {
   "cell_type": "markdown",
   "id": "b1d6e93e-a327-449d-a879-2fa6fec2836a",
   "metadata": {},
   "source": [
    "### Specify info about the subject, recording session, datatype, acquisition, task and freesurfer reconstruction directory\n",
    "\n",
    "Most of this info can be derived from the BIDs filenames and metadata. Check https://bids-specification.readthedocs.io/en/stable/04-modality-specific-files/04-intracranial-electroencephalography.html\n",
    "\n",
    "To visualize electrode coverage on the native brain you will need to obtain freesurfer reconstruction of the native anatomy. For this, you will need to install Freesurfer (https://surfer.nmr.mgh.harvard.edu/) and run the following in the terminal, set up variables SUBJECTS_DIR and FS_HOME_DIR and run cortical reconstruction in the terminal: \n",
    "\n",
    "``` recon-all -subject sub-01  -i sub-01/ses-mri3t/anat/sub-01_ses-mri3t_run-1_T1w.nii -cw256 -all ```"
   ]
  },
  {
   "cell_type": "code",
   "execution_count": 2,
   "id": "3746b216-36fa-4948-9ec9-04a3a1d8ebf6",
   "metadata": {},
   "outputs": [],
   "source": [
    "bids_dir='/Fridge/users/julia/project_chill_dataset_paper/data/BIDS2'\n",
    "subjects = mne_bids.get_entity_vals(bids_dir, 'subject')\n",
    "\n",
    "subject = '01'\n",
    "session = 'iemu'\n",
    "datatype = 'ieeg'\n",
    "task = 'film'\n",
    "acquisition = 'clinical'\n",
    "fs_dir = '/Fridge/users/julia/project_chill_dataset_paper/data/freesurfer2/sub-01'"
   ]
  },
  {
   "cell_type": "markdown",
   "id": "7a01de84-ff4f-4aff-ab4a-ded03065016a",
   "metadata": {},
   "source": [
    "### Load electrodes info"
   ]
  },
  {
   "cell_type": "code",
   "execution_count": 3,
   "id": "fdb25b1f-565a-4ffb-96d7-8eb68e475cc1",
   "metadata": {},
   "outputs": [],
   "source": [
    "electrodes_path = mne_bids.BIDSPath(subject=subject,\n",
    "                                    session=session,\n",
    "                                    suffix='electrodes',\n",
    "                                    extension='tsv',\n",
    "                                    datatype=datatype,\n",
    "                                    acquisition=acquisition,\n",
    "                                    root=bids_dir)\n",
    "electrodes = pd.read_csv(str(electrodes_path), sep='\\t', header=0, index_col=None)\n",
    "coords = electrodes[['x', 'y', 'z']].values"
   ]
  },
  {
   "cell_type": "markdown",
   "id": "84e0ed6d-6586-4398-be04-cd51e41e566a",
   "metadata": {},
   "source": [
    "### Load channels info"
   ]
  },
  {
   "cell_type": "code",
   "execution_count": 4,
   "id": "cd7e7add-dd1f-4122-a1e1-39ede76df4ff",
   "metadata": {},
   "outputs": [],
   "source": [
    "channels_path = mne_bids.BIDSPath(subject=subject,\n",
    "                                    session=session,\n",
    "                                    suffix='channels',\n",
    "                                    extension='tsv',\n",
    "                                    datatype=datatype,\n",
    "                                    task=task,\n",
    "                                    acquisition=acquisition,\n",
    "                                    root=bids_dir)\n",
    "channels = pd.read_csv(str(channels_path.match()[0]), sep='\\t', header=0, index_col=None)"
   ]
  },
  {
   "cell_type": "markdown",
   "id": "db3973d3-5129-4593-af84-4ce4f04ba829",
   "metadata": {},
   "source": [
    "### Load iEEG data info, set channel types and drop all irrelevant channels (not iEEG)"
   ]
  },
  {
   "cell_type": "code",
   "execution_count": 5,
   "id": "b125c2ca-586a-4471-81e4-32e4bb7b9540",
   "metadata": {},
   "outputs": [
    {
     "name": "stdout",
     "output_type": "stream",
     "text": [
      "Extracting parameters from /Fridge/users/julia/project_chill_dataset_paper/data/BIDS2/sub-01/ses-iemu/ieeg/sub-01_ses-iemu_task-film_acq-clinical_run-1_ieeg.vhdr...\n",
      "Setting channel info structure...\n"
     ]
    },
    {
     "data": {
      "text/plain": [
       "<RawBrainVision | sub-01_ses-iemu_task-film_acq-clinical_run-1_ieeg.eeg, 103 x 860254 (420.0 s), ~106 kB, data not loaded>"
      ]
     },
     "execution_count": 5,
     "metadata": {},
     "output_type": "execute_result"
    }
   ],
   "source": [
    "data_path = mne_bids.BIDSPath(subject=subject,\n",
    "                                    session=session,\n",
    "                                    suffix='ieeg',\n",
    "                                    extension='vhdr',\n",
    "                                    datatype=datatype,\n",
    "                                    task=task,\n",
    "                                    acquisition=acquisition,\n",
    "                                    root=bids_dir)\n",
    "raw = mne.io.read_raw_brainvision(str(data_path.match()[0]), scale=1.0, preload=False, verbose=True)\n",
    "raw.set_channel_types({ch_name: str(x).lower()\n",
    "                if str(x).lower() in ['ecog', 'seeg'] else 'misc'\n",
    "                                for ch_name, x in zip(raw.ch_names, channels['type'].values)})\n",
    "raw.drop_channels([raw.ch_names[i] for i, j in enumerate(raw.get_channel_types()) if j == 'misc'])"
   ]
  },
  {
   "cell_type": "markdown",
   "id": "3bdc6703-c399-46c6-b282-4ee32c794011",
   "metadata": {},
   "source": [
    "### Transform electrode coordinate to the freesurfer RAS space to visualize them on the surface"
   ]
  },
  {
   "cell_type": "code",
   "execution_count": 6,
   "id": "185b0627-927b-4be7-a24e-adb963dec0c0",
   "metadata": {},
   "outputs": [
    {
     "name": "stderr",
     "output_type": "stream",
     "text": [
      "<ipython-input-6-b6fb5e01c78b>:7: RuntimeWarning: Fiducial point nasion not found, assuming identity unknown to head transformation\n",
      "  raw.set_montage(montage)\n"
     ]
    },
    {
     "data": {
      "text/plain": [
       "<RawBrainVision | sub-01_ses-iemu_task-film_acq-clinical_run-1_ieeg.eeg, 103 x 860254 (420.0 s), ~145 kB, data not loaded>"
      ]
     },
     "execution_count": 6,
     "metadata": {},
     "output_type": "execute_result"
    }
   ],
   "source": [
    "x = nibabel.load(os.path.join(fs_dir, 'mri', 'orig.mgz'))\n",
    "vox_coords = np.round(mne.transforms.apply_trans(np.linalg.inv(x.affine), coords)).astype(int)\n",
    "ras_coords = mne.transforms.apply_trans(x.header.get_vox2ras_tkr(), vox_coords)\n",
    "ras_coords = ras_coords / 1000\n",
    "\n",
    "montage = mne.channels.make_dig_montage(ch_pos=dict(zip(raw.ch_names, ras_coords)), coord_frame='mri')\n",
    "raw.set_montage(montage)"
   ]
  },
  {
   "cell_type": "markdown",
   "id": "9247fa67-2866-47fe-9de8-43dd3192bf75",
   "metadata": {},
   "source": [
    "### Visualize electrodes\n",
    "\n",
    "*By default, if SEEG channels are present, MNE will make the visualization transparent"
   ]
  },
  {
   "cell_type": "code",
   "execution_count": 7,
   "id": "2c924d3f-1418-4390-9a9b-9e82357ec58e",
   "metadata": {},
   "outputs": [
    {
     "name": "stdout",
     "output_type": "stream",
     "text": [
      "Plotting 103 sEEG locations\n"
     ]
    },
    {
     "data": {
      "application/vnd.jupyter.widget-view+json": {
       "model_id": "84fa6a12119e43dc8e019a500a7dcee6",
       "version_major": 2,
       "version_minor": 0
      },
      "text/plain": [
       "HBox(children=(Canvas(header_visible=False, resizable=False, toolbar=Toolbar(toolitems=[('Home', 'Reset origin…"
      ]
     },
     "metadata": {},
     "output_type": "display_data"
    }
   ],
   "source": [
    "fig = mne.viz.plot_alignment(raw.info,\n",
    "               subject='sub-' + subject,\n",
    "               subjects_dir=os.path.dirname(fs_dir),\n",
    "               surfaces=['pial'],\n",
    "               coord_frame='mri')\n",
    "mne.viz.set_3d_view(fig, 180, 70, distance=.5)"
   ]
  }
 ],
 "metadata": {
  "kernelspec": {
   "display_name": "Python 3",
   "language": "python",
   "name": "python3"
  },
  "language_info": {
   "codemirror_mode": {
    "name": "ipython",
    "version": 3
   },
   "file_extension": ".py",
   "mimetype": "text/x-python",
   "name": "python",
   "nbconvert_exporter": "python",
   "pygments_lexer": "ipython3",
   "version": "3.8.6"
  }
 },
 "nbformat": 4,
 "nbformat_minor": 5
}
